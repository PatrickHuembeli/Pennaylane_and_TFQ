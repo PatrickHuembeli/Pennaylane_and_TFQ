{
 "cells": [
  {
   "cell_type": "markdown",
   "metadata": {},
   "source": [
    "## Simple qubit rotation with TFQ\n",
    "\n",
    "In this jupyter file we define a variational quantum circuit $V(\\theta)$ that rotates an initial state $|0000\\rangle$ into a target state with equal superposition $\\frac{1}{\\sqrt{|\\Sigma|}}\\sum_{\\sigma_i} | \\sigma_i \\rangle$. The aim is that  $\\frac{1}{\\sqrt{|\\Sigma|}}\\sum_{\\sigma_i} \\langle \\sigma_i | V(\\theta) | 0000\\rangle = 1$."
   ]
  },
  {
   "cell_type": "code",
   "execution_count": 1,
   "metadata": {
    "ExecuteTime": {
     "end_time": "2020-05-04T13:25:09.143952Z",
     "start_time": "2020-05-04T13:24:59.879964Z"
    }
   },
   "outputs": [],
   "source": [
    "import tensorflow as tf\n",
    "import tensorflow_quantum as tfq\n",
    "from tensorflow.keras import Model\n",
    "\n",
    "import cirq\n",
    "import sympy\n",
    "import numpy as np\n",
    "\n",
    "# visualization tools\n",
    "%matplotlib inline\n",
    "import matplotlib.pyplot as plt\n",
    "from cirq.contrib.svg import SVGCircuit"
   ]
  },
  {
   "cell_type": "markdown",
   "metadata": {},
   "source": [
    "## Define the circuit with Cirq\n",
    "\n",
    "To measure the overlap with the target state, we can simply measure the operator $M = 1/4*(X_1 + X_2 + X_3 + X_4)$\n",
    "and minimize the loss $1-\\langle M \\rangle$.\n",
    "\n",
    "We implement this mesurement operator as `op`"
   ]
  },
  {
   "cell_type": "code",
   "execution_count": 3,
   "metadata": {
    "ExecuteTime": {
     "end_time": "2020-05-04T13:25:55.432882Z",
     "start_time": "2020-05-04T13:25:55.377058Z"
    }
   },
   "outputs": [
    {
     "data": {
      "image/svg+xml": [
       "<svg xmlns=\"http://www.w3.org/2000/svg\" width=\"987.4606640625001\" height=\"200.0\"><line x1=\"32.246796875\" x2=\"957.4606640625001\" y1=\"25.0\" y2=\"25.0\" stroke=\"#1967d2\" stroke-width=\"1\" /><line x1=\"32.246796875\" x2=\"957.4606640625001\" y1=\"75.0\" y2=\"75.0\" stroke=\"#1967d2\" stroke-width=\"1\" /><line x1=\"32.246796875\" x2=\"957.4606640625001\" y1=\"125.0\" y2=\"125.0\" stroke=\"#1967d2\" stroke-width=\"1\" /><line x1=\"32.246796875\" x2=\"957.4606640625001\" y1=\"175.0\" y2=\"175.0\" stroke=\"#1967d2\" stroke-width=\"1\" /><line x1=\"391.3072265625\" x2=\"391.3072265625\" y1=\"25.0\" y2=\"75.0\" stroke=\"black\" stroke-width=\"3\" /><line x1=\"391.3072265625\" x2=\"391.3072265625\" y1=\"125.0\" y2=\"175.0\" stroke=\"black\" stroke-width=\"3\" /><line x1=\"472.07640625\" x2=\"472.07640625\" y1=\"75.0\" y2=\"125.0\" stroke=\"black\" stroke-width=\"3\" /><line x1=\"857.4606640625001\" x2=\"857.4606640625001\" y1=\"25.0\" y2=\"75.0\" stroke=\"black\" stroke-width=\"3\" /><line x1=\"857.4606640625001\" x2=\"857.4606640625001\" y1=\"125.0\" y2=\"175.0\" stroke=\"black\" stroke-width=\"3\" /><line x1=\"917.4606640625001\" x2=\"917.4606640625001\" y1=\"75.0\" y2=\"125.0\" stroke=\"black\" stroke-width=\"3\" /><rect x=\"10.0\" y=\"5.0\" width=\"44.49359375\" height=\"40\" stroke=\"black\" fill=\"white\" stroke-width=\"0\" /><text x=\"32.246796875\" y=\"25.0\" dominant-baseline=\"middle\" text-anchor=\"middle\" font-size=\"14px\">(0, 0): </text><rect x=\"10.0\" y=\"55.0\" width=\"44.49359375\" height=\"40\" stroke=\"black\" fill=\"white\" stroke-width=\"0\" /><text x=\"32.246796875\" y=\"75.0\" dominant-baseline=\"middle\" text-anchor=\"middle\" font-size=\"14px\">(0, 1): </text><rect x=\"10.0\" y=\"105.0\" width=\"44.49359375\" height=\"40\" stroke=\"black\" fill=\"white\" stroke-width=\"0\" /><text x=\"32.246796875\" y=\"125.0\" dominant-baseline=\"middle\" text-anchor=\"middle\" font-size=\"14px\">(0, 2): </text><rect x=\"10.0\" y=\"155.0\" width=\"44.49359375\" height=\"40\" stroke=\"black\" fill=\"white\" stroke-width=\"0\" /><text x=\"32.246796875\" y=\"175.0\" dominant-baseline=\"middle\" text-anchor=\"middle\" font-size=\"14px\">(0, 3): </text><rect x=\"74.49359375\" y=\"5.0\" width=\"73.7522265625\" height=\"40\" stroke=\"black\" fill=\"white\" stroke-width=\"1\" /><text x=\"111.36970703125\" y=\"25.0\" dominant-baseline=\"middle\" text-anchor=\"middle\" font-size=\"14px\">Rz(theta0)</text><rect x=\"74.49359375\" y=\"55.0\" width=\"73.7522265625\" height=\"40\" stroke=\"black\" fill=\"white\" stroke-width=\"1\" /><text x=\"111.36970703125\" y=\"75.0\" dominant-baseline=\"middle\" text-anchor=\"middle\" font-size=\"14px\">Rz(theta3)</text><rect x=\"74.49359375\" y=\"105.0\" width=\"73.7522265625\" height=\"40\" stroke=\"black\" fill=\"white\" stroke-width=\"1\" /><text x=\"111.36970703125\" y=\"125.0\" dominant-baseline=\"middle\" text-anchor=\"middle\" font-size=\"14px\">Rz(theta6)</text><rect x=\"74.49359375\" y=\"155.0\" width=\"73.7522265625\" height=\"40\" stroke=\"black\" fill=\"white\" stroke-width=\"1\" /><text x=\"111.36970703125\" y=\"175.0\" dominant-baseline=\"middle\" text-anchor=\"middle\" font-size=\"14px\">Rz(theta9)</text><rect x=\"168.24582031249997\" y=\"5.0\" width=\"81.538359375\" height=\"40\" stroke=\"black\" fill=\"white\" stroke-width=\"1\" /><text x=\"209.015\" y=\"25.0\" dominant-baseline=\"middle\" text-anchor=\"middle\" font-size=\"14px\">Rx(theta1)</text><rect x=\"168.24582031249997\" y=\"55.0\" width=\"81.538359375\" height=\"40\" stroke=\"black\" fill=\"white\" stroke-width=\"1\" /><text x=\"209.015\" y=\"75.0\" dominant-baseline=\"middle\" text-anchor=\"middle\" font-size=\"14px\">Rx(theta4)</text><rect x=\"168.24582031249997\" y=\"105.0\" width=\"81.538359375\" height=\"40\" stroke=\"black\" fill=\"white\" stroke-width=\"1\" /><text x=\"209.015\" y=\"125.0\" dominant-baseline=\"middle\" text-anchor=\"middle\" font-size=\"14px\">Rx(theta7)</text><rect x=\"168.24582031249997\" y=\"155.0\" width=\"81.538359375\" height=\"40\" stroke=\"black\" fill=\"white\" stroke-width=\"1\" /><text x=\"209.015\" y=\"175.0\" dominant-baseline=\"middle\" text-anchor=\"middle\" font-size=\"14px\">Rx(theta10)</text><rect x=\"269.7841796875\" y=\"5.0\" width=\"81.523046875\" height=\"40\" stroke=\"black\" fill=\"white\" stroke-width=\"1\" /><text x=\"310.545703125\" y=\"25.0\" dominant-baseline=\"middle\" text-anchor=\"middle\" font-size=\"14px\">Rz(theta2)</text><rect x=\"269.7841796875\" y=\"55.0\" width=\"81.523046875\" height=\"40\" stroke=\"black\" fill=\"white\" stroke-width=\"1\" /><text x=\"310.545703125\" y=\"75.0\" dominant-baseline=\"middle\" text-anchor=\"middle\" font-size=\"14px\">Rz(theta5)</text><rect x=\"269.7841796875\" y=\"105.0\" width=\"81.523046875\" height=\"40\" stroke=\"black\" fill=\"white\" stroke-width=\"1\" /><text x=\"310.545703125\" y=\"125.0\" dominant-baseline=\"middle\" text-anchor=\"middle\" font-size=\"14px\">Rz(theta8)</text><rect x=\"269.7841796875\" y=\"155.0\" width=\"81.523046875\" height=\"40\" stroke=\"black\" fill=\"white\" stroke-width=\"1\" /><text x=\"310.545703125\" y=\"175.0\" dominant-baseline=\"middle\" text-anchor=\"middle\" font-size=\"14px\">Rz(theta11)</text><circle cx=\"391.3072265625\" cy=\"25.0\" r=\"10.0\" /><circle cx=\"391.3072265625\" cy=\"75.0\" r=\"10.0\" /><circle cx=\"391.3072265625\" cy=\"125.0\" r=\"10.0\" /><circle cx=\"391.3072265625\" cy=\"175.0\" r=\"10.0\" /><circle cx=\"472.07640625\" cy=\"75.0\" r=\"10.0\" /><circle cx=\"472.07640625\" cy=\"125.0\" r=\"10.0\" /><rect x=\"431.3072265625\" y=\"5.0\" width=\"81.538359375\" height=\"40\" stroke=\"black\" fill=\"white\" stroke-width=\"1\" /><text x=\"472.07640625\" y=\"25.0\" dominant-baseline=\"middle\" text-anchor=\"middle\" font-size=\"14px\">Rz(theta12)</text><rect x=\"431.3072265625\" y=\"155.0\" width=\"81.538359375\" height=\"40\" stroke=\"black\" fill=\"white\" stroke-width=\"1\" /><text x=\"472.07640625\" y=\"175.0\" dominant-baseline=\"middle\" text-anchor=\"middle\" font-size=\"14px\">Rz(theta21)</text><rect x=\"532.8455859375\" y=\"5.0\" width=\"81.538359375\" height=\"40\" stroke=\"black\" fill=\"white\" stroke-width=\"1\" /><text x=\"573.614765625\" y=\"25.0\" dominant-baseline=\"middle\" text-anchor=\"middle\" font-size=\"14px\">Rx(theta13)</text><rect x=\"532.8455859375\" y=\"55.0\" width=\"81.538359375\" height=\"40\" stroke=\"black\" fill=\"white\" stroke-width=\"1\" /><text x=\"573.614765625\" y=\"75.0\" dominant-baseline=\"middle\" text-anchor=\"middle\" font-size=\"14px\">Rz(theta15)</text><rect x=\"532.8455859375\" y=\"105.0\" width=\"81.538359375\" height=\"40\" stroke=\"black\" fill=\"white\" stroke-width=\"1\" /><text x=\"573.614765625\" y=\"125.0\" dominant-baseline=\"middle\" text-anchor=\"middle\" font-size=\"14px\">Rz(theta18)</text><rect x=\"532.8455859375\" y=\"155.0\" width=\"81.538359375\" height=\"40\" stroke=\"black\" fill=\"white\" stroke-width=\"1\" /><text x=\"573.614765625\" y=\"175.0\" dominant-baseline=\"middle\" text-anchor=\"middle\" font-size=\"14px\">Rx(theta22)</text><rect x=\"634.3839453125\" y=\"5.0\" width=\"81.538359375\" height=\"40\" stroke=\"black\" fill=\"white\" stroke-width=\"1\" /><text x=\"675.153125\" y=\"25.0\" dominant-baseline=\"middle\" text-anchor=\"middle\" font-size=\"14px\">Rz(theta14)</text><rect x=\"634.3839453125\" y=\"55.0\" width=\"81.538359375\" height=\"40\" stroke=\"black\" fill=\"white\" stroke-width=\"1\" /><text x=\"675.153125\" y=\"75.0\" dominant-baseline=\"middle\" text-anchor=\"middle\" font-size=\"14px\">Rx(theta16)</text><rect x=\"634.3839453125\" y=\"105.0\" width=\"81.538359375\" height=\"40\" stroke=\"black\" fill=\"white\" stroke-width=\"1\" /><text x=\"675.153125\" y=\"125.0\" dominant-baseline=\"middle\" text-anchor=\"middle\" font-size=\"14px\">Rx(theta19)</text><rect x=\"634.3839453125\" y=\"155.0\" width=\"81.538359375\" height=\"40\" stroke=\"black\" fill=\"white\" stroke-width=\"1\" /><text x=\"675.153125\" y=\"175.0\" dominant-baseline=\"middle\" text-anchor=\"middle\" font-size=\"14px\">Rz(theta23)</text><rect x=\"735.9223046875001\" y=\"55.0\" width=\"81.538359375\" height=\"40\" stroke=\"black\" fill=\"white\" stroke-width=\"1\" /><text x=\"776.6914843750001\" y=\"75.0\" dominant-baseline=\"middle\" text-anchor=\"middle\" font-size=\"14px\">Rz(theta17)</text><rect x=\"735.9223046875001\" y=\"105.0\" width=\"81.538359375\" height=\"40\" stroke=\"black\" fill=\"white\" stroke-width=\"1\" /><text x=\"776.6914843750001\" y=\"125.0\" dominant-baseline=\"middle\" text-anchor=\"middle\" font-size=\"14px\">Rz(theta20)</text><circle cx=\"857.4606640625001\" cy=\"25.0\" r=\"10.0\" /><circle cx=\"857.4606640625001\" cy=\"75.0\" r=\"10.0\" /><circle cx=\"857.4606640625001\" cy=\"125.0\" r=\"10.0\" /><circle cx=\"857.4606640625001\" cy=\"175.0\" r=\"10.0\" /><circle cx=\"917.4606640625001\" cy=\"75.0\" r=\"10.0\" /><circle cx=\"917.4606640625001\" cy=\"125.0\" r=\"10.0\" /></svg>"
      ],
      "text/plain": [
       "<cirq.contrib.svg.svg.SVGCircuit at 0x1373e5fd0>"
      ]
     },
     "execution_count": 3,
     "metadata": {},
     "output_type": "execute_result"
    }
   ],
   "source": [
    "def generate_circuit(nr_of_qubits, layers):\n",
    "    qubits = cirq.GridQubit.rect(1, nr_of_qubits) # Define qubit grid. In this case \n",
    "    nr_parameters = 3*nr_of_qubits*layers # 3 params for each qubit and layer\n",
    "\n",
    "    symb = sympy.symbols('theta0:'+str(nr_parameters))\n",
    "    symbols = np.array(symb)\n",
    "    symbols = symbols.reshape(layers, nr_of_qubits, 3)\n",
    "    circuit = cirq.Circuit()\n",
    "\n",
    "    for l in range(layers):\n",
    "        # Add a series of single qubit rotations.\n",
    "        for i, qubit in enumerate(qubits):\n",
    "            circuit += cirq.rz(symbols[l][i][0])(qubit)\n",
    "            circuit += cirq.rx(symbols[l][i][1])(qubit)\n",
    "            circuit += cirq.rz(symbols[l][i][2])(qubit)\n",
    "\n",
    "        circuit += cirq.CZ(qubits[0], qubits[1])\n",
    "        circuit += cirq.CZ(qubits[2], qubits[3])\n",
    "        circuit += cirq.CZ(qubits[1], qubits[2])\n",
    "\n",
    "    op = 1/4*(cirq.X(qubits[0]) + cirq.X(qubits[1]) + cirq.X(qubits[2]) + cirq.X(qubits[3]))         \n",
    "    return circuit, op, list(symb)\n",
    "\n",
    "nr_of_qubits = 4\n",
    "layers = 2\n",
    "tf_circuit, op, (symbols) = generate_circuit(nr_of_qubits, layers)\n",
    "SVGCircuit(tf_circuit) "
   ]
  },
  {
   "cell_type": "markdown",
   "metadata": {},
   "source": [
    "## Method without keras\n",
    "\n",
    "### Define a classical model that outputs the circuit parameters\n",
    "\n",
    "These parameters will be trained. This is the basic structure this model needs to have. But we could `call()` any function or even whole nueral networks that return these parameters."
   ]
  },
  {
   "cell_type": "code",
   "execution_count": 4,
   "metadata": {
    "ExecuteTime": {
     "end_time": "2020-05-04T13:25:58.469108Z",
     "start_time": "2020-05-04T13:25:58.432885Z"
    }
   },
   "outputs": [
    {
     "data": {
      "text/plain": [
       "[<tf.Variable 'Variable:0' shape=(24,) dtype=float64, numpy=\n",
       " array([0.4139659 , 0.34282132, 0.87948004, 0.65461008, 0.32933811,\n",
       "        0.80638918, 0.07704536, 0.03909048, 0.41425862, 0.14154555,\n",
       "        0.72498658, 0.19544217, 0.87069088, 0.46945953, 0.05214077,\n",
       "        0.87803274, 0.0761321 , 0.5159643 , 0.50242537, 0.1400908 ,\n",
       "        0.05550696, 0.10629389, 0.16118076, 0.63178469])>]"
      ]
     },
     "execution_count": 4,
     "metadata": {},
     "output_type": "execute_result"
    }
   ],
   "source": [
    "class circuit_params(Model):\n",
    "    def __init__(self, W = np.random.normal(2)):\n",
    "        super(circuit_params, self).__init__()\n",
    "\n",
    "        self.W = tf.Variable(W)\n",
    "    \n",
    "    @tf.function\n",
    "    def __call__(self):\n",
    "        return self.W\n",
    "\n",
    "model = circuit_params(W = np.random.rand(nr_of_qubits*layers*3))\n",
    "model.trainable_variables"
   ]
  },
  {
   "cell_type": "markdown",
   "metadata": {},
   "source": [
    "### Make a test run to get the expectation\n",
    "\n",
    "For a randomly initialized model we get the following expectation value"
   ]
  },
  {
   "cell_type": "code",
   "execution_count": 5,
   "metadata": {
    "ExecuteTime": {
     "end_time": "2020-05-04T13:26:01.801297Z",
     "start_time": "2020-05-04T13:26:01.696760Z"
    }
   },
   "outputs": [
    {
     "data": {
      "text/plain": [
       "<tf.Tensor: shape=(1, 1), dtype=float32, numpy=array([[0.6974215]], dtype=float32)>"
      ]
     },
     "execution_count": 5,
     "metadata": {},
     "output_type": "execute_result"
    }
   ],
   "source": [
    "optimizer = tf.keras.optimizers.SGD(lr=0.5)\n",
    "\n",
    "params = model()\n",
    "\n",
    "out = tfq.layers.Expectation()(tf_circuit,\n",
    "                         symbol_names=symbols,\n",
    "                         symbol_values=[params],\n",
    "                         operators=1-op)\n",
    "\n",
    "out"
   ]
  },
  {
   "cell_type": "markdown",
   "metadata": {},
   "source": [
    "### Define training routine\n",
    "\n",
    "For the training we call the model params and forward them to the TFQ layer for the expectation value. This calculations is intergrable with TFQ and we get the gradient and can update the parameters with the optimizer."
   ]
  },
  {
   "cell_type": "code",
   "execution_count": 6,
   "metadata": {
    "ExecuteTime": {
     "end_time": "2020-05-04T13:26:05.502280Z",
     "start_time": "2020-05-04T13:26:05.496578Z"
    }
   },
   "outputs": [],
   "source": [
    "@tf.function\n",
    "def train_step():\n",
    "    with tf.GradientTape() as tape:\n",
    "        # training=True is only needed if there are layers with different\n",
    "        # behavior during training versus inference (e.g. Dropout).\n",
    "        params = model()\n",
    "        out = tfq.layers.Expectation()(tf_circuit,\n",
    "                         symbol_names=symbols,\n",
    "                         symbol_values=[params],\n",
    "                         operators=1-op)\n",
    "        \n",
    "    gradients = tape.gradient(out, model.trainable_variables)\n",
    "    optimizer.apply_gradients(zip(gradients, model.trainable_variables))"
   ]
  },
  {
   "cell_type": "markdown",
   "metadata": {},
   "source": [
    "#### Run the training"
   ]
  },
  {
   "cell_type": "code",
   "execution_count": 9,
   "metadata": {
    "ExecuteTime": {
     "end_time": "2020-05-04T13:26:23.664916Z",
     "start_time": "2020-05-04T13:26:22.768947Z"
    }
   },
   "outputs": [],
   "source": [
    "for i in range(100):\n",
    "    train_step()"
   ]
  },
  {
   "cell_type": "markdown",
   "metadata": {},
   "source": [
    "#### Check training success"
   ]
  },
  {
   "cell_type": "code",
   "execution_count": 10,
   "metadata": {
    "ExecuteTime": {
     "end_time": "2020-05-04T13:26:25.290954Z",
     "start_time": "2020-05-04T13:26:25.264787Z"
    }
   },
   "outputs": [
    {
     "data": {
      "text/plain": [
       "<tf.Tensor: shape=(1, 1), dtype=float32, numpy=array([[2.2828579e-05]], dtype=float32)>"
      ]
     },
     "execution_count": 10,
     "metadata": {},
     "output_type": "execute_result"
    }
   ],
   "source": [
    "params = model()\n",
    "out = tfq.layers.Expectation()(tf_circuit,\n",
    "                 symbol_names=symbols,\n",
    "                 symbol_values=[params],\n",
    "                 operators=1-op)\n",
    "\n",
    "out"
   ]
  },
  {
   "cell_type": "markdown",
   "metadata": {},
   "source": [
    "## Implement Keras method\n",
    "\n",
    "This way is much shorter but it might give us less access to all the details of the circuit. And it is much slower than the other version.\n",
    "\n",
    "### Transform circuit into TF layer"
   ]
  },
  {
   "cell_type": "code",
   "execution_count": 11,
   "metadata": {
    "ExecuteTime": {
     "end_time": "2020-05-04T13:26:28.679495Z",
     "start_time": "2020-05-04T13:26:28.649965Z"
    }
   },
   "outputs": [],
   "source": [
    "outputs = tfq.layers.PQC(tf_circuit,         # Circuit to be transformed into tf layer\n",
    "                         1-op,               # Output of the layer\n",
    "                         repetitions=1024,\n",
    "                         differentiator=tfq.differentiators.ParameterShift())"
   ]
  },
  {
   "cell_type": "markdown",
   "metadata": {},
   "source": [
    "### Define a model with a random input and the output of the quantum layer"
   ]
  },
  {
   "cell_type": "code",
   "execution_count": 14,
   "metadata": {
    "ExecuteTime": {
     "end_time": "2020-05-04T13:27:06.105082Z",
     "start_time": "2020-05-04T13:27:06.023670Z"
    }
   },
   "outputs": [],
   "source": [
    "model = tf.keras.Sequential([\n",
    "    tf.keras.layers.Input(shape=(), dtype=tf.string),\n",
    "    outputs\n",
    "])"
   ]
  },
  {
   "cell_type": "markdown",
   "metadata": {},
   "source": [
    "In order to compile and fit the model, one needs to define a loss function (the quantity to optimize) and an optimizer. We want to optimize the expectation value of $M$, this is, the output of the model. Tensorflow needs this, however, as a function ``f(real_values,predictions)``"
   ]
  },
  {
   "cell_type": "code",
   "execution_count": 16,
   "metadata": {
    "ExecuteTime": {
     "end_time": "2020-05-04T13:27:16.037040Z",
     "start_time": "2020-05-04T13:27:16.018975Z"
    }
   },
   "outputs": [],
   "source": [
    "loss = lambda real, pred: pred    # Forget about any \"real\" values, just consider as loss the model's output\n",
    "\n",
    "model.compile(loss=loss,\n",
    "              optimizer=tf.keras.optimizers.SGD(learning_rate=0.4)) # Same optimizer as the Pennylane case"
   ]
  },
  {
   "cell_type": "markdown",
   "metadata": {},
   "source": [
    "Finally, the ``fit`` function is designed for classification problems, and thus it needs of some inputs and corresponding \"true\" outputs. Our variational quantum circuit has none of these, so we just insert empty attributes: the input will be an empty quantum circuit, which corresponds to setting the initial state to $|0000\\rangle$; the output will be an empty array (you can choose anything you want, since the loss function will discard whatever you set)"
   ]
  },
  {
   "cell_type": "code",
   "execution_count": 17,
   "metadata": {
    "ExecuteTime": {
     "end_time": "2020-05-04T13:28:06.710675Z",
     "start_time": "2020-05-04T13:28:06.706589Z"
    }
   },
   "outputs": [],
   "source": [
    "dummy_input  = tfq.convert_to_tensor([cirq.Circuit()])\n",
    "dummy_output = np.array([[]])"
   ]
  },
  {
   "cell_type": "code",
   "execution_count": null,
   "metadata": {
    "ExecuteTime": {
     "start_time": "2020-05-04T13:28:49.577Z"
    }
   },
   "outputs": [
    {
     "name": "stdout",
     "output_type": "stream",
     "text": [
      "Train on 1 samples\n",
      "Epoch 1/100\n",
      "WARNING:tensorflow:AutoGraph could not transform <bound method ParameterShift.differentiate_sampled of <tensorflow.python.eager.function.TfMethodTarget object at 0x1377c35d0>> and will run it as-is.\n",
      "Please report this to the TensorFlow team. When filing the bug, set the verbosity to 10 (on Linux, `export AUTOGRAPH_VERBOSITY=10`) and attach the full output.\n",
      "Cause: unexpected indent (<unknown>, line 77)\n",
      "WARNING: AutoGraph could not transform <bound method ParameterShift.differentiate_sampled of <tensorflow.python.eager.function.TfMethodTarget object at 0x1377c35d0>> and will run it as-is.\n",
      "Please report this to the TensorFlow team. When filing the bug, set the verbosity to 10 (on Linux, `export AUTOGRAPH_VERBOSITY=10`) and attach the full output.\n",
      "Cause: unexpected indent (<unknown>, line 77)\n",
      "1/1 [==============================] - 4s 4s/sample - loss: 1.0786\n",
      "Epoch 2/100\n",
      "1/1 [==============================] - 4s 4s/sample - loss: 0.9565\n",
      "Epoch 3/100\n",
      "1/1 [==============================] - 5s 5s/sample - loss: 0.8589\n",
      "Epoch 4/100\n",
      "1/1 [==============================] - 4s 4s/sample - loss: 0.7798\n",
      "Epoch 5/100\n",
      "1/1 [==============================] - 4s 4s/sample - loss: 0.7183\n",
      "Epoch 6/100\n"
     ]
    }
   ],
   "source": [
    "steps = 100\n",
    "model.fit(dummy_input, dummy_output, epochs=steps)"
   ]
  },
  {
   "cell_type": "code",
   "execution_count": null,
   "metadata": {},
   "outputs": [],
   "source": []
  }
 ],
 "metadata": {
  "kernelspec": {
   "display_name": "Python 3",
   "language": "python",
   "name": "python3"
  },
  "language_info": {
   "codemirror_mode": {
    "name": "ipython",
    "version": 3
   },
   "file_extension": ".py",
   "mimetype": "text/x-python",
   "name": "python",
   "nbconvert_exporter": "python",
   "pygments_lexer": "ipython3",
   "version": "3.7.6"
  },
  "toc": {
   "base_numbering": 1,
   "nav_menu": {},
   "number_sections": true,
   "sideBar": true,
   "skip_h1_title": false,
   "title_cell": "Table of Contents",
   "title_sidebar": "Contents",
   "toc_cell": false,
   "toc_position": {},
   "toc_section_display": true,
   "toc_window_display": false
  },
  "varInspector": {
   "cols": {
    "lenName": 16,
    "lenType": 16,
    "lenVar": 40
   },
   "kernels_config": {
    "python": {
     "delete_cmd_postfix": "",
     "delete_cmd_prefix": "del ",
     "library": "var_list.py",
     "varRefreshCmd": "print(var_dic_list())"
    },
    "r": {
     "delete_cmd_postfix": ") ",
     "delete_cmd_prefix": "rm(",
     "library": "var_list.r",
     "varRefreshCmd": "cat(var_dic_list()) "
    }
   },
   "types_to_exclude": [
    "module",
    "function",
    "builtin_function_or_method",
    "instance",
    "_Feature"
   ],
   "window_display": false
  }
 },
 "nbformat": 4,
 "nbformat_minor": 4
}
