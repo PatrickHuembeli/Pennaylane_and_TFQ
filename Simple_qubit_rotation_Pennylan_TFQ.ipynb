{
 "cells": [
  {
   "cell_type": "markdown",
   "metadata": {},
   "source": [
    "## Simple qubit rotation with Pennylane and TFQ\n",
    "\n",
    "In this jupyter file we define a variational quantum circuit $V(\\theta)$ that rotates an initial state $|0000\\rangle$ into a target state with equal superposition $\\frac{1}{\\sqrt{|\\Sigma|}}\\sum_{\\sigma_i} | \\sigma_i \\rangle$. The aim is that  $\\frac{1}{\\sqrt{|\\Sigma|}}\\sum_{\\sigma_i} \\langle \\sigma_i | V(\\theta) | 0000\\rangle = 1$."
   ]
  },
  {
   "cell_type": "code",
   "execution_count": 1,
   "metadata": {
    "ExecuteTime": {
     "end_time": "2020-03-16T15:20:17.328864Z",
     "start_time": "2020-03-16T15:20:15.154113Z"
    }
   },
   "outputs": [],
   "source": [
    "import pennylane as qml\n",
    "from pennylane import numpy as np\n",
    "from tqdm.notebook import tqdm"
   ]
  },
  {
   "cell_type": "markdown",
   "metadata": {},
   "source": [
    "## Pennylane version\n",
    "\n",
    "Define the device `default.qubit` and a circuit where one layer contains a general rotation $R(\\phi, \\theta, \\omega) = R_z(\\omega)R_x(\\theta)R_z(\\phi)$ on each qubit, followed by entangling gates. We apply 2 layers. The $R(\\phi, \\theta, \\omega)$ gate is a native in pennylane `qml.Rot()`. We use 4 qubits."
   ]
  },
  {
   "cell_type": "code",
   "execution_count": 5,
   "metadata": {
    "ExecuteTime": {
     "end_time": "2020-03-16T15:20:32.511521Z",
     "start_time": "2020-03-16T15:20:32.474425Z"
    }
   },
   "outputs": [],
   "source": [
    "dev1 = qml.device(\"default.qubit\", wires=4)"
   ]
  },
  {
   "cell_type": "code",
   "execution_count": 6,
   "metadata": {
    "ExecuteTime": {
     "end_time": "2020-03-16T15:20:33.118469Z",
     "start_time": "2020-03-16T15:20:33.107584Z"
    }
   },
   "outputs": [],
   "source": [
    "target_state = np.ones(2**4)/np.sqrt(2**4)\n",
    "density = np.outer(target_state, target_state)\n",
    "\n",
    "@qml.qnode(dev1)\n",
    "def circuit(params):\n",
    "    for j in range(2): # 2 layers\n",
    "        for i in range(4): # 4 qubits\n",
    "            qml.Rot(*params[j][i], wires=i)\n",
    "        qml.CNOT(wires=[0,1])\n",
    "        qml.CNOT(wires=[2,3])\n",
    "        qml.CNOT(wires=[1,2])\n",
    "    return qml.expval(qml.Hermitian(density, wires=[0,1,2,3]))"
   ]
  },
  {
   "cell_type": "markdown",
   "metadata": {},
   "source": [
    "Define a cost function. In our case we want the overlap of the circuit output to be maximal with the targe_state. Therefore we minimize $1-\\frac{1}{\\sqrt{|\\Sigma|}}\\sum_{\\sigma_i}\\langle \\sigma_i | V(\\theta) | 0000\\rangle$"
   ]
  },
  {
   "cell_type": "code",
   "execution_count": 7,
   "metadata": {
    "ExecuteTime": {
     "end_time": "2020-03-16T15:20:34.230773Z",
     "start_time": "2020-03-16T15:20:34.226415Z"
    }
   },
   "outputs": [],
   "source": [
    "def cost(var):\n",
    "    return 1-circuit(var)"
   ]
  },
  {
   "cell_type": "markdown",
   "metadata": {},
   "source": [
    "Initialize the parameters randomly. The shape of the parametrs is $(layers, number of qubits, 3)$ because for each layer and qubit we have 3 paramters."
   ]
  },
  {
   "cell_type": "code",
   "execution_count": 8,
   "metadata": {
    "ExecuteTime": {
     "end_time": "2020-03-16T15:20:35.706850Z",
     "start_time": "2020-03-16T15:20:35.691056Z"
    }
   },
   "outputs": [
    {
     "name": "stdout",
     "output_type": "stream",
     "text": [
      "0.957599890942166\n"
     ]
    }
   ],
   "source": [
    "init_params = np.random.rand(2, 4, 3) # 2 layers, 4 qubits, 3 parameters per rotation\n",
    "print(cost(init_params))"
   ]
  },
  {
   "cell_type": "markdown",
   "metadata": {},
   "source": [
    "### Training\n",
    "\n",
    "For the training we define a gradient descent optimizer and continuously update the parameters "
   ]
  },
  {
   "cell_type": "code",
   "execution_count": 9,
   "metadata": {
    "ExecuteTime": {
     "end_time": "2020-03-16T15:20:59.022865Z",
     "start_time": "2020-03-16T15:20:37.283991Z"
    }
   },
   "outputs": [
    {
     "name": "stderr",
     "output_type": "stream",
     "text": [
      "/home/apozas/anaconda3/lib/python3.7/site-packages/ipykernel_launcher.py:9: TqdmDeprecationWarning: This function will be removed in tqdm==5.0.0\n",
      "Please use `tqdm.notebook.tqdm` instead of `tqdm.tqdm_notebook`\n",
      "  if __name__ == '__main__':\n"
     ]
    },
    {
     "data": {
      "application/vnd.jupyter.widget-view+json": {
       "model_id": "d6d3f6a422014c5588c440a08e09236a",
       "version_major": 2,
       "version_minor": 0
      },
      "text/plain": [
       "HBox(children=(FloatProgress(value=0.0), HTML(value='')))"
      ]
     },
     "metadata": {},
     "output_type": "display_data"
    },
    {
     "name": "stdout",
     "output_type": "stream",
     "text": [
      "Cost after step    10:  0.5040322\n",
      "Cost after step    20:  0.0162879\n",
      "Cost after step    30:  0.0001736\n",
      "Cost after step    40:  0.0000020\n",
      "Cost after step    50:  0.0000000\n",
      "Cost after step    60:  0.0000000\n",
      "Cost after step    70:  0.0000000\n",
      "Cost after step    80:  0.0000000\n",
      "Cost after step    90:  0.0000000\n",
      "Cost after step   100:  0.0000000\n",
      "\n",
      "Optimized rotation angles: [[[ 6.74896613e-01  6.91155471e-10 -1.67060465e-02]\n",
      "  [ 6.87857217e-01  7.63121664e-10  9.14400478e-01]\n",
      "  [ 6.98870153e-01  2.78105583e-08  7.12413182e-01]\n",
      "  [ 9.24021167e-01 -2.26678219e-01  3.89056997e-01]]\n",
      "\n",
      " [[ 4.97326147e-01  1.57079632e+00  3.46488611e-10]\n",
      "  [ 3.19315092e-01  1.57079633e+00  9.77070528e-10]\n",
      "  [ 7.01352669e-01  1.57079633e+00  2.78154751e-08]\n",
      "  [ 1.08945683e+00  1.59204717e+00  2.25696946e-01]]]\n"
     ]
    }
   ],
   "source": [
    "# initialise the optimizer\n",
    "opt = qml.GradientDescentOptimizer(stepsize=0.4) # stepsize is the learning rate\n",
    "\n",
    "# set the number of steps\n",
    "steps = 100\n",
    "# set the initial parameter values\n",
    "params = init_params\n",
    "\n",
    "for i in tqdm(range(steps)):\n",
    "    # update the circuit parameters\n",
    "    params = opt.step(cost, params)\n",
    "\n",
    "    if (i + 1) % 10 == 0:\n",
    "        print(\"Cost after step {:5d}: {: .7f}\".format(i + 1, cost(params)))\n",
    "\n",
    "print(\"Optimized rotation angles: {}\".format(params))"
   ]
  },
  {
   "cell_type": "markdown",
   "metadata": {},
   "source": [
    "If we check the final state we see that appart from a global pahse we find the target state."
   ]
  },
  {
   "cell_type": "code",
   "execution_count": 10,
   "metadata": {
    "ExecuteTime": {
     "end_time": "2020-03-16T15:20:59.483199Z",
     "start_time": "2020-03-16T15:20:59.464714Z"
    }
   },
   "outputs": [
    {
     "data": {
      "text/plain": [
       "array([-0.19851551+0.15195917j, -0.19851552+0.15195918j,\n",
       "       -0.19851552+0.15195917j, -0.19851552+0.15195917j,\n",
       "       -0.19851552+0.15195917j, -0.19851552+0.15195917j,\n",
       "       -0.19851551+0.15195917j, -0.19851552+0.15195918j,\n",
       "       -0.19851551+0.15195917j, -0.19851552+0.15195918j,\n",
       "       -0.19851552+0.15195917j, -0.19851552+0.15195917j,\n",
       "       -0.19851552+0.15195917j, -0.19851552+0.15195917j,\n",
       "       -0.19851551+0.15195917j, -0.19851552+0.15195918j])"
      ]
     },
     "execution_count": 10,
     "metadata": {},
     "output_type": "execute_result"
    }
   ],
   "source": [
    "circuit(params)\n",
    "dev1.state"
   ]
  },
  {
   "cell_type": "markdown",
   "metadata": {},
   "source": [
    "## TFQ version"
   ]
  },
  {
   "cell_type": "code",
   "execution_count": 11,
   "metadata": {
    "ExecuteTime": {
     "end_time": "2020-03-16T15:21:08.562356Z",
     "start_time": "2020-03-16T15:20:59.859323Z"
    }
   },
   "outputs": [],
   "source": [
    "import tensorflow as tf\n",
    "import tensorflow_quantum as tfq\n",
    "import tensorflow.keras as keras\n",
    "\n",
    "import cirq\n",
    "import sympy\n",
    "import numpy as np\n",
    "\n",
    "# visualization tools\n",
    "%matplotlib inline\n",
    "import matplotlib.pyplot as plt\n",
    "from cirq.contrib.svg import SVGCircuit"
   ]
  },
  {
   "cell_type": "markdown",
   "metadata": {},
   "source": [
    "### Generate symbols\n",
    "\n",
    "I did not figure out, how I can do the gradients in TFQ without using symbols, this seems to be mandatory for tfq. I don't reallay see the advantage so far. Especially the evaluation with the resolver function seems a bit odd and unnecessary.\n",
    "\n",
    "The definition of the circuit is almost the same as in Pennylane.\n",
    "\n",
    "There is no option to define a projections operator to calculate the overlap with a target state because they are not unitary. This gives a bit less room to play with TFQ. I assume the idea was, that these gates are not really feasible on a real quantum device.\n",
    "\n",
    "% Instead of defining a hermitian matrix that gives the overlap with the target state, we can simply measure the operator $M = 1/4*(X_1 + X_2 + X_3 + X_4)$ and minimize the loss $1-\\langle M \\rangle$."
   ]
  },
  {
   "cell_type": "code",
   "execution_count": 12,
   "metadata": {
    "ExecuteTime": {
     "end_time": "2020-03-16T15:21:08.879972Z",
     "start_time": "2020-03-16T15:21:08.831398Z"
    }
   },
   "outputs": [
    {
     "data": {
      "image/svg+xml": [
       "<svg xmlns=\"http://www.w3.org/2000/svg\" width=\"987.4606640625001\" height=\"200.0\"><line x1=\"32.246796875\" x2=\"957.4606640625001\" y1=\"25.0\" y2=\"25.0\" stroke=\"#1967d2\" stroke-width=\"1\" /><line x1=\"32.246796875\" x2=\"957.4606640625001\" y1=\"75.0\" y2=\"75.0\" stroke=\"#1967d2\" stroke-width=\"1\" /><line x1=\"32.246796875\" x2=\"957.4606640625001\" y1=\"125.0\" y2=\"125.0\" stroke=\"#1967d2\" stroke-width=\"1\" /><line x1=\"32.246796875\" x2=\"957.4606640625001\" y1=\"175.0\" y2=\"175.0\" stroke=\"#1967d2\" stroke-width=\"1\" /><line x1=\"391.3072265625\" x2=\"391.3072265625\" y1=\"25.0\" y2=\"75.0\" stroke=\"black\" stroke-width=\"3\" /><line x1=\"391.3072265625\" x2=\"391.3072265625\" y1=\"125.0\" y2=\"175.0\" stroke=\"black\" stroke-width=\"3\" /><line x1=\"472.07640625\" x2=\"472.07640625\" y1=\"75.0\" y2=\"125.0\" stroke=\"black\" stroke-width=\"3\" /><line x1=\"857.4606640625001\" x2=\"857.4606640625001\" y1=\"25.0\" y2=\"75.0\" stroke=\"black\" stroke-width=\"3\" /><line x1=\"857.4606640625001\" x2=\"857.4606640625001\" y1=\"125.0\" y2=\"175.0\" stroke=\"black\" stroke-width=\"3\" /><line x1=\"917.4606640625001\" x2=\"917.4606640625001\" y1=\"75.0\" y2=\"125.0\" stroke=\"black\" stroke-width=\"3\" /><rect x=\"10.0\" y=\"5.0\" width=\"44.49359375\" height=\"40\" stroke=\"black\" fill=\"white\" stroke-width=\"0\" /><text x=\"32.246796875\" y=\"25.0\" dominant-baseline=\"middle\" text-anchor=\"middle\" font-size=\"14px\">(0, 0): </text><rect x=\"10.0\" y=\"55.0\" width=\"44.49359375\" height=\"40\" stroke=\"black\" fill=\"white\" stroke-width=\"0\" /><text x=\"32.246796875\" y=\"75.0\" dominant-baseline=\"middle\" text-anchor=\"middle\" font-size=\"14px\">(0, 1): </text><rect x=\"10.0\" y=\"105.0\" width=\"44.49359375\" height=\"40\" stroke=\"black\" fill=\"white\" stroke-width=\"0\" /><text x=\"32.246796875\" y=\"125.0\" dominant-baseline=\"middle\" text-anchor=\"middle\" font-size=\"14px\">(0, 2): </text><rect x=\"10.0\" y=\"155.0\" width=\"44.49359375\" height=\"40\" stroke=\"black\" fill=\"white\" stroke-width=\"0\" /><text x=\"32.246796875\" y=\"175.0\" dominant-baseline=\"middle\" text-anchor=\"middle\" font-size=\"14px\">(0, 3): </text><rect x=\"74.49359375\" y=\"5.0\" width=\"73.7522265625\" height=\"40\" stroke=\"black\" fill=\"white\" stroke-width=\"1\" /><text x=\"111.36970703125\" y=\"25.0\" dominant-baseline=\"middle\" text-anchor=\"middle\" font-size=\"14px\">Rz(theta0)</text><rect x=\"74.49359375\" y=\"55.0\" width=\"73.7522265625\" height=\"40\" stroke=\"black\" fill=\"white\" stroke-width=\"1\" /><text x=\"111.36970703125\" y=\"75.0\" dominant-baseline=\"middle\" text-anchor=\"middle\" font-size=\"14px\">Rz(theta3)</text><rect x=\"74.49359375\" y=\"105.0\" width=\"73.7522265625\" height=\"40\" stroke=\"black\" fill=\"white\" stroke-width=\"1\" /><text x=\"111.36970703125\" y=\"125.0\" dominant-baseline=\"middle\" text-anchor=\"middle\" font-size=\"14px\">Rz(theta6)</text><rect x=\"74.49359375\" y=\"155.0\" width=\"73.7522265625\" height=\"40\" stroke=\"black\" fill=\"white\" stroke-width=\"1\" /><text x=\"111.36970703125\" y=\"175.0\" dominant-baseline=\"middle\" text-anchor=\"middle\" font-size=\"14px\">Rz(theta9)</text><rect x=\"168.24582031249997\" y=\"5.0\" width=\"81.538359375\" height=\"40\" stroke=\"black\" fill=\"white\" stroke-width=\"1\" /><text x=\"209.015\" y=\"25.0\" dominant-baseline=\"middle\" text-anchor=\"middle\" font-size=\"14px\">Rx(theta1)</text><rect x=\"168.24582031249997\" y=\"55.0\" width=\"81.538359375\" height=\"40\" stroke=\"black\" fill=\"white\" stroke-width=\"1\" /><text x=\"209.015\" y=\"75.0\" dominant-baseline=\"middle\" text-anchor=\"middle\" font-size=\"14px\">Rx(theta4)</text><rect x=\"168.24582031249997\" y=\"105.0\" width=\"81.538359375\" height=\"40\" stroke=\"black\" fill=\"white\" stroke-width=\"1\" /><text x=\"209.015\" y=\"125.0\" dominant-baseline=\"middle\" text-anchor=\"middle\" font-size=\"14px\">Rx(theta7)</text><rect x=\"168.24582031249997\" y=\"155.0\" width=\"81.538359375\" height=\"40\" stroke=\"black\" fill=\"white\" stroke-width=\"1\" /><text x=\"209.015\" y=\"175.0\" dominant-baseline=\"middle\" text-anchor=\"middle\" font-size=\"14px\">Rx(theta10)</text><rect x=\"269.7841796875\" y=\"5.0\" width=\"81.523046875\" height=\"40\" stroke=\"black\" fill=\"white\" stroke-width=\"1\" /><text x=\"310.545703125\" y=\"25.0\" dominant-baseline=\"middle\" text-anchor=\"middle\" font-size=\"14px\">Rz(theta2)</text><rect x=\"269.7841796875\" y=\"55.0\" width=\"81.523046875\" height=\"40\" stroke=\"black\" fill=\"white\" stroke-width=\"1\" /><text x=\"310.545703125\" y=\"75.0\" dominant-baseline=\"middle\" text-anchor=\"middle\" font-size=\"14px\">Rz(theta5)</text><rect x=\"269.7841796875\" y=\"105.0\" width=\"81.523046875\" height=\"40\" stroke=\"black\" fill=\"white\" stroke-width=\"1\" /><text x=\"310.545703125\" y=\"125.0\" dominant-baseline=\"middle\" text-anchor=\"middle\" font-size=\"14px\">Rz(theta8)</text><rect x=\"269.7841796875\" y=\"155.0\" width=\"81.523046875\" height=\"40\" stroke=\"black\" fill=\"white\" stroke-width=\"1\" /><text x=\"310.545703125\" y=\"175.0\" dominant-baseline=\"middle\" text-anchor=\"middle\" font-size=\"14px\">Rz(theta11)</text><circle cx=\"391.3072265625\" cy=\"25.0\" r=\"10.0\" /><circle cx=\"391.3072265625\" cy=\"75.0\" r=\"10.0\" /><circle cx=\"391.3072265625\" cy=\"125.0\" r=\"10.0\" /><circle cx=\"391.3072265625\" cy=\"175.0\" r=\"10.0\" /><circle cx=\"472.07640625\" cy=\"75.0\" r=\"10.0\" /><circle cx=\"472.07640625\" cy=\"125.0\" r=\"10.0\" /><rect x=\"431.3072265625\" y=\"5.0\" width=\"81.538359375\" height=\"40\" stroke=\"black\" fill=\"white\" stroke-width=\"1\" /><text x=\"472.07640625\" y=\"25.0\" dominant-baseline=\"middle\" text-anchor=\"middle\" font-size=\"14px\">Rz(theta12)</text><rect x=\"431.3072265625\" y=\"155.0\" width=\"81.538359375\" height=\"40\" stroke=\"black\" fill=\"white\" stroke-width=\"1\" /><text x=\"472.07640625\" y=\"175.0\" dominant-baseline=\"middle\" text-anchor=\"middle\" font-size=\"14px\">Rz(theta21)</text><rect x=\"532.8455859375\" y=\"5.0\" width=\"81.538359375\" height=\"40\" stroke=\"black\" fill=\"white\" stroke-width=\"1\" /><text x=\"573.614765625\" y=\"25.0\" dominant-baseline=\"middle\" text-anchor=\"middle\" font-size=\"14px\">Rx(theta13)</text><rect x=\"532.8455859375\" y=\"55.0\" width=\"81.538359375\" height=\"40\" stroke=\"black\" fill=\"white\" stroke-width=\"1\" /><text x=\"573.614765625\" y=\"75.0\" dominant-baseline=\"middle\" text-anchor=\"middle\" font-size=\"14px\">Rz(theta15)</text><rect x=\"532.8455859375\" y=\"105.0\" width=\"81.538359375\" height=\"40\" stroke=\"black\" fill=\"white\" stroke-width=\"1\" /><text x=\"573.614765625\" y=\"125.0\" dominant-baseline=\"middle\" text-anchor=\"middle\" font-size=\"14px\">Rz(theta18)</text><rect x=\"532.8455859375\" y=\"155.0\" width=\"81.538359375\" height=\"40\" stroke=\"black\" fill=\"white\" stroke-width=\"1\" /><text x=\"573.614765625\" y=\"175.0\" dominant-baseline=\"middle\" text-anchor=\"middle\" font-size=\"14px\">Rx(theta22)</text><rect x=\"634.3839453125\" y=\"5.0\" width=\"81.538359375\" height=\"40\" stroke=\"black\" fill=\"white\" stroke-width=\"1\" /><text x=\"675.153125\" y=\"25.0\" dominant-baseline=\"middle\" text-anchor=\"middle\" font-size=\"14px\">Rz(theta14)</text><rect x=\"634.3839453125\" y=\"55.0\" width=\"81.538359375\" height=\"40\" stroke=\"black\" fill=\"white\" stroke-width=\"1\" /><text x=\"675.153125\" y=\"75.0\" dominant-baseline=\"middle\" text-anchor=\"middle\" font-size=\"14px\">Rx(theta16)</text><rect x=\"634.3839453125\" y=\"105.0\" width=\"81.538359375\" height=\"40\" stroke=\"black\" fill=\"white\" stroke-width=\"1\" /><text x=\"675.153125\" y=\"125.0\" dominant-baseline=\"middle\" text-anchor=\"middle\" font-size=\"14px\">Rx(theta19)</text><rect x=\"634.3839453125\" y=\"155.0\" width=\"81.538359375\" height=\"40\" stroke=\"black\" fill=\"white\" stroke-width=\"1\" /><text x=\"675.153125\" y=\"175.0\" dominant-baseline=\"middle\" text-anchor=\"middle\" font-size=\"14px\">Rz(theta23)</text><rect x=\"735.9223046875001\" y=\"55.0\" width=\"81.538359375\" height=\"40\" stroke=\"black\" fill=\"white\" stroke-width=\"1\" /><text x=\"776.6914843750001\" y=\"75.0\" dominant-baseline=\"middle\" text-anchor=\"middle\" font-size=\"14px\">Rz(theta17)</text><rect x=\"735.9223046875001\" y=\"105.0\" width=\"81.538359375\" height=\"40\" stroke=\"black\" fill=\"white\" stroke-width=\"1\" /><text x=\"776.6914843750001\" y=\"125.0\" dominant-baseline=\"middle\" text-anchor=\"middle\" font-size=\"14px\">Rz(theta20)</text><circle cx=\"857.4606640625001\" cy=\"25.0\" r=\"10.0\" /><circle cx=\"857.4606640625001\" cy=\"75.0\" r=\"10.0\" /><circle cx=\"857.4606640625001\" cy=\"125.0\" r=\"10.0\" /><circle cx=\"857.4606640625001\" cy=\"175.0\" r=\"10.0\" /><circle cx=\"917.4606640625001\" cy=\"75.0\" r=\"10.0\" /><circle cx=\"917.4606640625001\" cy=\"125.0\" r=\"10.0\" /></svg>"
      ],
      "text/plain": [
       "<cirq.contrib.svg.svg.SVGCircuit at 0x1408c8c10>"
      ]
     },
     "execution_count": 12,
     "metadata": {},
     "output_type": "execute_result"
    }
   ],
   "source": [
    "def generate_circuit(nr_of_qubits, layers):\n",
    "    qubits = cirq.GridQubit.rect(1, nr_of_qubits) # Define qubit grid. In this case \n",
    "    nr_parameters = 3*nr_of_qubits*layers # 3 params for each qubit and layer\n",
    "\n",
    "    symb = sympy.symbols('theta0:'+str(nr_parameters))\n",
    "    symbols = np.array(symb)\n",
    "    symbols = symbols.reshape(layers, nr_of_qubits, 3)\n",
    "    circuit = cirq.Circuit()\n",
    "\n",
    "    for l in range(layers):\n",
    "        # Add a series of single qubit rotations.\n",
    "        for i, qubit in enumerate(qubits):\n",
    "            circuit += cirq.rz(symbols[l][i][0])(qubit)\n",
    "            circuit += cirq.rx(symbols[l][i][1])(qubit)\n",
    "            circuit += cirq.rz(symbols[l][i][2])(qubit)\n",
    "\n",
    "        circuit += cirq.CZ(qubits[0], qubits[1])\n",
    "        circuit += cirq.CZ(qubits[2], qubits[3])\n",
    "        circuit += cirq.CZ(qubits[1], qubits[2])\n",
    "\n",
    "    op = 1/4*(cirq.X(qubits[0]) + cirq.X(qubits[1]) + cirq.X(qubits[2]) + cirq.X(qubits[3]))         \n",
    "    return circuit, op, list(symb)\n",
    "\n",
    "nr_of_qubits = 4\n",
    "layers = 2\n",
    "tf_circuit, op, (symbols) = generate_circuit(nr_of_qubits, layers)\n",
    "SVGCircuit(tf_circuit) "
   ]
  },
  {
   "cell_type": "markdown",
   "metadata": {},
   "source": [
    "### Training\n",
    "\n",
    "One can leverage all the Tensorflow machinery for training quantum circuits. We will now insert the previous circuit in a ``tf.keras`` model in order to train it.\n",
    "\n",
    "First of all, the circuit must be converted into a layer so it can be inserted in a model. The most direct choice is the ``PQC`` (which stands for Parameterized Quantum Circuit) layer. This layer requires as additional specifications the operator we are going to measure in the end, the number of evaluations, and the way the gradients are going to be computed."
   ]
  },
  {
   "cell_type": "code",
   "execution_count": 10,
   "metadata": {
    "ExecuteTime": {
     "end_time": "2020-03-16T15:21:12.945152Z",
     "start_time": "2020-03-16T15:21:09.210785Z"
    }
   },
   "outputs": [],
   "source": [
    "outputs = tfq.layers.PQC(tf_circuit,         # Circuit to be transformed into tf layer\n",
    "                         1-op,               # Output of the layer\n",
    "                         repetitions=1024,\n",
    "                         differentiator=tfq.differentiators.ParameterShift())"
   ]
  },
  {
   "cell_type": "markdown",
   "metadata": {},
   "source": [
    "Next, we can instantiate a model, taking an arbitrary input and outputting the result of the measurement of $M$"
   ]
  },
  {
   "cell_type": "code",
   "execution_count": 11,
   "metadata": {},
   "outputs": [],
   "source": [
    "model = tf.keras.Sequential([\n",
    "    keras.layers.Input(shape=(), dtype=tf.string),\n",
    "    outputs\n",
    "])"
   ]
  },
  {
   "cell_type": "markdown",
   "metadata": {},
   "source": [
    "In order to compile and fit the model, one needs to define a loss function (the quantity to optimize) and an optimizer. We want to optimize the expectation value of $M$, this is, the output of the model. Tensorflow needs this, however, as a function ``f(real_values,predictions)``"
   ]
  },
  {
   "cell_type": "code",
   "execution_count": 12,
   "metadata": {},
   "outputs": [],
   "source": [
    "loss = lambda real, pred: pred    # Forget about any \"real\" values, just consider as loss the model's output\n",
    "\n",
    "model.compile(loss=loss,\n",
    "              optimizer=keras.optimizers.SGD(learning_rate=0.4)) # Same optimizer as the Pennylane case"
   ]
  },
  {
   "cell_type": "markdown",
   "metadata": {},
   "source": [
    "Finally, the ``fit`` function is designed for classification problems, and thus it needs of some inputs and corresponding \"true\" outputs. Our variational quantum circuit has none of these, so we just insert empty attributes: the input will be an empty quantum circuit, which corresponds to setting the initial state to $|0000\\rangle$; the output will be an empty array (you can choose anything you want, since the loss function will discard whatever you set)"
   ]
  },
  {
   "cell_type": "code",
   "execution_count": 13,
   "metadata": {},
   "outputs": [],
   "source": [
    "dummy_input  = tfq.convert_to_tensor([cirq.Circuit()])\n",
    "dummy_output = np.array([[]])"
   ]
  },
  {
   "cell_type": "markdown",
   "metadata": {},
   "source": [
    "An it is finally time to train!"
   ]
  },
  {
   "cell_type": "code",
   "execution_count": 14,
   "metadata": {
    "scrolled": true
   },
   "outputs": [
    {
     "name": "stderr",
     "output_type": "stream",
     "text": [
      "WARNING:tensorflow:AutoGraph could not transform <bound method ParameterShift.differentiate_sampled of <tensorflow.python.eager.function.TfMethodTarget object at 0x7ff2e854d450>> and will run it as-is.\n",
      "Please report this to the TensorFlow team. When filing the bug, set the verbosity to 10 (on Linux, `export AUTOGRAPH_VERBOSITY=10`) and attach the full output.\n",
      "Cause: unexpected indent (<unknown>, line 77)\n"
     ]
    },
    {
     "name": "stdout",
     "output_type": "stream",
     "text": [
      "Train on 1 samples\n",
      "Epoch 1/100\n",
      "WARNING: AutoGraph could not transform <bound method ParameterShift.differentiate_sampled of <tensorflow.python.eager.function.TfMethodTarget object at 0x7ff2e854d450>> and will run it as-is.\n",
      "Please report this to the TensorFlow team. When filing the bug, set the verbosity to 10 (on Linux, `export AUTOGRAPH_VERBOSITY=10`) and attach the full output.\n",
      "Cause: unexpected indent (<unknown>, line 77)\n",
      "1/1 [==============================] - 7s 7s/sample - loss: 1.2593\n",
      "Epoch 2/100\n",
      "1/1 [==============================] - 7s 7s/sample - loss: 1.1460\n",
      "Epoch 3/100\n",
      "1/1 [==============================] - 8s 8s/sample - loss: 1.0508\n",
      "Epoch 4/100\n",
      "1/1 [==============================] - 7s 7s/sample - loss: 0.9326\n",
      "Epoch 5/100\n",
      "1/1 [==============================] - 7s 7s/sample - loss: 0.8359\n",
      "Epoch 6/100\n",
      "1/1 [==============================] - 6s 6s/sample - loss: 0.7749\n",
      "Epoch 7/100\n",
      "1/1 [==============================] - 5s 5s/sample - loss: 0.7402\n",
      "Epoch 8/100\n",
      "1/1 [==============================] - 5s 5s/sample - loss: 0.7217\n",
      "Epoch 9/100\n",
      "1/1 [==============================] - 6s 6s/sample - loss: 0.7085\n",
      "Epoch 10/100\n",
      "1/1 [==============================] - 7s 7s/sample - loss: 0.7012\n",
      "Epoch 11/100\n",
      "1/1 [==============================] - 7s 7s/sample - loss: 0.6929\n",
      "Epoch 12/100\n",
      "1/1 [==============================] - 7s 7s/sample - loss: 0.6855\n",
      "Epoch 13/100\n",
      "1/1 [==============================] - 6s 6s/sample - loss: 0.6724\n",
      "Epoch 14/100\n",
      "1/1 [==============================] - 5s 5s/sample - loss: 0.6670\n",
      "Epoch 15/100\n",
      "1/1 [==============================] - 5s 5s/sample - loss: 0.6606\n",
      "Epoch 16/100\n",
      "1/1 [==============================] - 5s 5s/sample - loss: 0.6538\n",
      "Epoch 17/100\n",
      "1/1 [==============================] - 5s 5s/sample - loss: 0.6460\n",
      "Epoch 18/100\n",
      "1/1 [==============================] - 5s 5s/sample - loss: 0.6372\n",
      "Epoch 19/100\n",
      "1/1 [==============================] - 5s 5s/sample - loss: 0.6265\n",
      "Epoch 20/100\n",
      "1/1 [==============================] - 5s 5s/sample - loss: 0.6167\n",
      "Epoch 21/100\n",
      "1/1 [==============================] - 6s 6s/sample - loss: 0.6050\n",
      "Epoch 22/100\n",
      "1/1 [==============================] - 6s 6s/sample - loss: 0.5884\n",
      "Epoch 23/100\n",
      "1/1 [==============================] - 6s 6s/sample - loss: 0.5806\n",
      "Epoch 24/100\n",
      "1/1 [==============================] - 6s 6s/sample - loss: 0.5713\n",
      "Epoch 25/100\n",
      "1/1 [==============================] - 6s 6s/sample - loss: 0.5571\n",
      "Epoch 26/100\n",
      "1/1 [==============================] - 5s 5s/sample - loss: 0.5430\n",
      "Epoch 27/100\n",
      "1/1 [==============================] - 5s 5s/sample - loss: 0.5332\n",
      "Epoch 28/100\n",
      "1/1 [==============================] - 5s 5s/sample - loss: 0.5229\n",
      "Epoch 29/100\n",
      "1/1 [==============================] - 5s 5s/sample - loss: 0.5059\n",
      "Epoch 30/100\n",
      "1/1 [==============================] - 5s 5s/sample - loss: 0.4883\n",
      "Epoch 31/100\n",
      "1/1 [==============================] - 5s 5s/sample - loss: 0.4717\n",
      "Epoch 32/100\n",
      "1/1 [==============================] - 6s 6s/sample - loss: 0.4580\n",
      "Epoch 33/100\n",
      "1/1 [==============================] - 6s 6s/sample - loss: 0.4399\n",
      "Epoch 34/100\n",
      "1/1 [==============================] - 6s 6s/sample - loss: 0.4233\n",
      "Epoch 35/100\n",
      "1/1 [==============================] - 6s 6s/sample - loss: 0.4072\n",
      "Epoch 36/100\n",
      "1/1 [==============================] - 5s 5s/sample - loss: 0.3921\n",
      "Epoch 37/100\n",
      "1/1 [==============================] - 6s 6s/sample - loss: 0.3726\n",
      "Epoch 38/100\n",
      "1/1 [==============================] - 6s 6s/sample - loss: 0.3511\n",
      "Epoch 39/100\n",
      "1/1 [==============================] - 7s 7s/sample - loss: 0.3335\n",
      "Epoch 40/100\n",
      "1/1 [==============================] - 5s 5s/sample - loss: 0.3086\n",
      "Epoch 41/100\n",
      "1/1 [==============================] - 6s 6s/sample - loss: 0.2837\n",
      "Epoch 42/100\n",
      "1/1 [==============================] - 11s 11s/sample - loss: 0.2695\n",
      "Epoch 43/100\n",
      "1/1 [==============================] - 6s 6s/sample - loss: 0.2505\n",
      "Epoch 44/100\n",
      "1/1 [==============================] - 6s 6s/sample - loss: 0.2305\n",
      "Epoch 45/100\n",
      "1/1 [==============================] - 6s 6s/sample - loss: 0.2085\n",
      "Epoch 46/100\n",
      "1/1 [==============================] - 5s 5s/sample - loss: 0.1870\n",
      "Epoch 47/100\n",
      "1/1 [==============================] - 5s 5s/sample - loss: 0.1733\n",
      "Epoch 48/100\n",
      "1/1 [==============================] - 5s 5s/sample - loss: 0.1528\n",
      "Epoch 49/100\n",
      "1/1 [==============================] - 5s 5s/sample - loss: 0.1382\n",
      "Epoch 50/100\n",
      "1/1 [==============================] - 5s 5s/sample - loss: 0.1270\n",
      "Epoch 51/100\n",
      "1/1 [==============================] - 5s 5s/sample - loss: 0.1167\n",
      "Epoch 52/100\n",
      "1/1 [==============================] - 5s 5s/sample - loss: 0.1011\n",
      "Epoch 53/100\n",
      "1/1 [==============================] - 5s 5s/sample - loss: 0.0903\n",
      "Epoch 54/100\n",
      "1/1 [==============================] - 5s 5s/sample - loss: 0.0767\n",
      "Epoch 55/100\n",
      "1/1 [==============================] - 5s 5s/sample - loss: 0.0640\n",
      "Epoch 56/100\n",
      "1/1 [==============================] - 5s 5s/sample - loss: 0.0532\n",
      "Epoch 57/100\n",
      "1/1 [==============================] - 5s 5s/sample - loss: 0.0449\n",
      "Epoch 58/100\n",
      "1/1 [==============================] - 5s 5s/sample - loss: 0.0386\n",
      "Epoch 59/100\n",
      "1/1 [==============================] - 5s 5s/sample - loss: 0.0327\n",
      "Epoch 60/100\n",
      "1/1 [==============================] - 6s 6s/sample - loss: 0.0273\n",
      "Epoch 61/100\n",
      "1/1 [==============================] - 5s 5s/sample - loss: 0.0225\n",
      "Epoch 62/100\n",
      "1/1 [==============================] - 5s 5s/sample - loss: 0.0181\n",
      "Epoch 63/100\n",
      "1/1 [==============================] - 6s 6s/sample - loss: 0.0132\n",
      "Epoch 64/100\n",
      "1/1 [==============================] - 6s 6s/sample - loss: 0.0107\n",
      "Epoch 65/100\n",
      "1/1 [==============================] - 5s 5s/sample - loss: 0.0098\n",
      "Epoch 66/100\n",
      "1/1 [==============================] - 5s 5s/sample - loss: 0.0078\n",
      "Epoch 67/100\n",
      "1/1 [==============================] - 5s 5s/sample - loss: 0.0063\n",
      "Epoch 68/100\n",
      "1/1 [==============================] - 5s 5s/sample - loss: 0.0049\n",
      "Epoch 69/100\n",
      "1/1 [==============================] - 6s 6s/sample - loss: 0.0044\n",
      "Epoch 70/100\n",
      "1/1 [==============================] - 6s 6s/sample - loss: 0.0044\n",
      "Epoch 71/100\n",
      "1/1 [==============================] - 6s 6s/sample - loss: 0.0029\n",
      "Epoch 72/100\n",
      "1/1 [==============================] - 6s 6s/sample - loss: 0.0020\n",
      "Epoch 73/100\n",
      "1/1 [==============================] - 5s 5s/sample - loss: 0.0020\n",
      "Epoch 74/100\n",
      "1/1 [==============================] - 5s 5s/sample - loss: 0.0020\n",
      "Epoch 75/100\n",
      "1/1 [==============================] - 6s 6s/sample - loss: 9.7656e-04\n",
      "Epoch 76/100\n",
      "1/1 [==============================] - 5s 5s/sample - loss: 9.7656e-04\n",
      "Epoch 77/100\n",
      "1/1 [==============================] - 6s 6s/sample - loss: 9.7656e-04\n",
      "Epoch 78/100\n",
      "1/1 [==============================] - 5s 5s/sample - loss: 4.8828e-04\n",
      "Epoch 79/100\n",
      "1/1 [==============================] - 6s 6s/sample - loss: 4.8828e-04\n",
      "Epoch 80/100\n",
      "1/1 [==============================] - 6s 6s/sample - loss: 0.0000e+00\n",
      "Epoch 81/100\n",
      "1/1 [==============================] - 6s 6s/sample - loss: 0.0000e+00\n",
      "Epoch 82/100\n",
      "1/1 [==============================] - 6s 6s/sample - loss: 0.0000e+00\n",
      "Epoch 83/100\n",
      "1/1 [==============================] - 6s 6s/sample - loss: 0.0000e+00\n",
      "Epoch 84/100\n",
      "1/1 [==============================] - 6s 6s/sample - loss: 0.0000e+00\n",
      "Epoch 85/100\n",
      "1/1 [==============================] - 5s 5s/sample - loss: 0.0000e+00\n",
      "Epoch 86/100\n",
      "1/1 [==============================] - 5s 5s/sample - loss: 0.0000e+00\n",
      "Epoch 87/100\n",
      "1/1 [==============================] - 5s 5s/sample - loss: 0.0000e+00\n",
      "Epoch 88/100\n",
      "1/1 [==============================] - 5s 5s/sample - loss: 0.0000e+00\n",
      "Epoch 89/100\n",
      "1/1 [==============================] - 5s 5s/sample - loss: 0.0000e+00\n",
      "Epoch 90/100\n",
      "1/1 [==============================] - 5s 5s/sample - loss: 0.0000e+00\n",
      "Epoch 91/100\n",
      "1/1 [==============================] - 5s 5s/sample - loss: 0.0000e+00\n",
      "Epoch 92/100\n",
      "1/1 [==============================] - 5s 5s/sample - loss: 0.0000e+00\n",
      "Epoch 93/100\n",
      "1/1 [==============================] - 5s 5s/sample - loss: 0.0000e+00\n",
      "Epoch 94/100\n",
      "1/1 [==============================] - 5s 5s/sample - loss: 0.0000e+00\n",
      "Epoch 95/100\n",
      "1/1 [==============================] - 5s 5s/sample - loss: 0.0000e+00\n",
      "Epoch 96/100\n",
      "1/1 [==============================] - 5s 5s/sample - loss: 0.0000e+00\n",
      "Epoch 97/100\n",
      "1/1 [==============================] - 5s 5s/sample - loss: 0.0000e+00\n"
     ]
    },
    {
     "name": "stdout",
     "output_type": "stream",
     "text": [
      "Epoch 98/100\n",
      "1/1 [==============================] - 5s 5s/sample - loss: 0.0000e+00\n",
      "Epoch 99/100\n",
      "1/1 [==============================] - 5s 5s/sample - loss: 0.0000e+00\n",
      "Epoch 100/100\n",
      "1/1 [==============================] - 6s 6s/sample - loss: 0.0000e+00\n"
     ]
    },
    {
     "data": {
      "text/plain": [
       "<tensorflow.python.keras.callbacks.History at 0x7ff2cd65ab10>"
      ]
     },
     "execution_count": 14,
     "metadata": {},
     "output_type": "execute_result"
    }
   ],
   "source": [
    "model.fit(dummy_input, dummy_output, epochs=steps)"
   ]
  },
  {
   "cell_type": "markdown",
   "metadata": {},
   "source": [
    "Like in the Hello World example we can extract the wave function we see that we get the qual superposition state with some global phase."
   ]
  },
  {
   "cell_type": "code",
   "execution_count": 14,
   "metadata": {
    "ExecuteTime": {
     "end_time": "2020-03-16T15:21:13.581030Z",
     "start_time": "2020-03-16T15:21:13.397419Z"
    }
   },
   "outputs": [
    {
     "data": {
      "text/plain": [
       "array([-0.12092981+0.11653918j, -0.01904925+0.08952404j,\n",
       "       -0.09569703+0.2150478j ,  0.00330672+0.09941432j,\n",
       "       -0.19545245+0.22132438j, -0.09361984+0.08065134j,\n",
       "       -0.1114625 +0.22313282j, -0.07782382+0.10748095j,\n",
       "       -0.17299804+0.2954623j , -0.01541981+0.19208351j,\n",
       "       -0.17390479+0.33722562j,  0.00585946+0.14279011j,\n",
       "       -0.22462693+0.3382221j , -0.10849848+0.11196651j,\n",
       "       -0.20639879+0.34401396j, -0.12547365+0.17676538j], dtype=complex64)"
      ]
     },
     "execution_count": 14,
     "metadata": {},
     "output_type": "execute_result"
    }
   ],
   "source": [
    "simulator = cirq.Simulator()\n",
    "dictionary = {symb: model.trainable_variables[0].numpy()[i] for i, symb in enumerate(symbols)}\n",
    "resolver = cirq.ParamResolver(dictionary)\n",
    "resolved_circuit = cirq.resolve_parameters(tf_circuit, resolver)\n",
    "output_state_vector = simulator.simulate(tf_circuit, resolver).final_state\n",
    "output_state_vector"
   ]
  },
  {
   "cell_type": "code",
   "execution_count": null,
   "metadata": {},
   "outputs": [],
   "source": []
  }
 ],
 "metadata": {
  "kernelspec": {
   "display_name": "Python 3",
   "language": "python",
   "name": "python3"
  },
  "language_info": {
   "codemirror_mode": {
    "name": "ipython",
    "version": 3
   },
   "file_extension": ".py",
   "mimetype": "text/x-python",
   "name": "python",
   "nbconvert_exporter": "python",
   "pygments_lexer": "ipython3",
   "version": "3.7.6"
  },
  "toc": {
   "base_numbering": 1,
   "nav_menu": {},
   "number_sections": true,
   "sideBar": true,
   "skip_h1_title": false,
   "title_cell": "Table of Contents",
   "title_sidebar": "Contents",
   "toc_cell": false,
   "toc_position": {},
   "toc_section_display": true,
   "toc_window_display": false
  },
  "varInspector": {
   "cols": {
    "lenName": 16,
    "lenType": 16,
    "lenVar": 40
   },
   "kernels_config": {
    "python": {
     "delete_cmd_postfix": "",
     "delete_cmd_prefix": "del ",
     "library": "var_list.py",
     "varRefreshCmd": "print(var_dic_list())"
    },
    "r": {
     "delete_cmd_postfix": ") ",
     "delete_cmd_prefix": "rm(",
     "library": "var_list.r",
     "varRefreshCmd": "cat(var_dic_list()) "
    }
   },
   "types_to_exclude": [
    "module",
    "function",
    "builtin_function_or_method",
    "instance",
    "_Feature"
   ],
   "window_display": false
  }
 },
 "nbformat": 4,
 "nbformat_minor": 4
}
