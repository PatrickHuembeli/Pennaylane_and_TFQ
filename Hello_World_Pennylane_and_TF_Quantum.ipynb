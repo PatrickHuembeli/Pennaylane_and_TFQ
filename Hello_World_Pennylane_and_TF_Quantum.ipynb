{
 "cells": [
  {
   "cell_type": "markdown",
   "metadata": {},
   "source": [
    "# Hello World\n",
    "\n",
    "It is not really established yet, what the quantum analogy of the classical `print(\"Hello world\")` is. I will define here the \"Hello world\" as the task to build an arbitrary circuit with rotations and an entangling gate on 2 qubits, I will print the circuit and sample from it.\n",
    "\n",
    "## Tensorflow Quantum \"Hello World\"\n",
    "\n",
    "Since Tensorflow Quantum (tfq) does all the quantum part on google's own quantum platform Cirq, the \"Hello world\" example can be done without using tfq. "
   ]
  },
  {
   "cell_type": "code",
   "execution_count": 15,
   "metadata": {
    "ExecuteTime": {
     "end_time": "2020-03-15T12:51:26.605311Z",
     "start_time": "2020-03-15T12:51:18.785000Z"
    }
   },
   "outputs": [],
   "source": [
    "import tensorflow as tf\n",
    "import tensorflow_quantum as tfq\n",
    "\n",
    "import cirq\n",
    "import sympy                            # Sympy is for symbolic math\n",
    "import numpy as np\n",
    "\n",
    "from cirq.contrib.svg import SVGCircuit # to print the circuit"
   ]
  },
  {
   "cell_type": "markdown",
   "metadata": {},
   "source": [
    "- Define symbolic variables, which will be the parameters of the rotations\n",
    "- Define qubits q0 and q1\n",
    "- Define a circuit with a Rx rotations on each qubit followed by CNOT\n",
    "- Print the circuit with the Cirquit native `SVGCircuit`"
   ]
  },
  {
   "cell_type": "code",
   "execution_count": 16,
   "metadata": {
    "ExecuteTime": {
     "end_time": "2020-03-15T12:51:26.752887Z",
     "start_time": "2020-03-15T12:51:26.729339Z"
    }
   },
   "outputs": [
    {
     "data": {
      "image/svg+xml": [
       "<svg xmlns=\"http://www.w3.org/2000/svg\" width=\"234.108125\" height=\"100.0\"><line x1=\"32.246796875\" x2=\"204.108125\" y1=\"25.0\" y2=\"25.0\" stroke=\"#1967d2\" stroke-width=\"1\" /><line x1=\"32.246796875\" x2=\"204.108125\" y1=\"75.0\" y2=\"75.0\" stroke=\"#1967d2\" stroke-width=\"1\" /><line x1=\"164.108125\" x2=\"164.108125\" y1=\"25.0\" y2=\"75.0\" stroke=\"black\" stroke-width=\"3\" /><rect x=\"10.0\" y=\"5.0\" width=\"44.49359375\" height=\"40\" stroke=\"black\" fill=\"white\" stroke-width=\"0\" /><text x=\"32.246796875\" y=\"25.0\" dominant-baseline=\"middle\" text-anchor=\"middle\" font-size=\"14px\">(0, 0): </text><rect x=\"10.0\" y=\"55.0\" width=\"44.49359375\" height=\"40\" stroke=\"black\" fill=\"white\" stroke-width=\"0\" /><text x=\"32.246796875\" y=\"75.0\" dominant-baseline=\"middle\" text-anchor=\"middle\" font-size=\"14px\">(0, 1): </text><rect x=\"74.49359375\" y=\"5.0\" width=\"49.61453125\" height=\"40\" stroke=\"black\" fill=\"white\" stroke-width=\"1\" /><text x=\"99.300859375\" y=\"25.0\" dominant-baseline=\"middle\" text-anchor=\"middle\" font-size=\"14px\">Rx(x1)</text><rect x=\"74.49359375\" y=\"55.0\" width=\"49.61453125\" height=\"40\" stroke=\"black\" fill=\"white\" stroke-width=\"1\" /><text x=\"99.300859375\" y=\"75.0\" dominant-baseline=\"middle\" text-anchor=\"middle\" font-size=\"14px\">Rx(x2)</text><circle cx=\"164.108125\" cy=\"25.0\" r=\"10.0\" /><rect x=\"144.108125\" y=\"55.0\" width=\"40\" height=\"40\" stroke=\"black\" fill=\"white\" stroke-width=\"1\" /><text x=\"164.108125\" y=\"75.0\" dominant-baseline=\"middle\" text-anchor=\"middle\" font-size=\"18px\">X</text></svg>"
      ],
      "text/plain": [
       "<cirq.contrib.svg.svg.SVGCircuit at 0x158d3a510>"
      ]
     },
     "execution_count": 16,
     "metadata": {},
     "output_type": "execute_result"
    }
   ],
   "source": [
    "x1, x2 = sympy.symbols('x1 x2')             # Define symbolic parameters x1, x2\n",
    "\n",
    "q0, q1 = cirq.GridQubit.rect(1,2)          # Define two qubits on grid\n",
    "\n",
    "# Define a circuit\n",
    "tf_circuit = cirq.Circuit(\n",
    "    cirq.rx(x1).on(q0),\n",
    "    cirq.rx(x2).on(q1), \n",
    "    cirq.CNOT(control=q0, target=q1)\n",
    ")\n",
    "\n",
    "SVGCircuit(tf_circuit)                         # Print circuit"
   ]
  },
  {
   "cell_type": "markdown",
   "metadata": {},
   "source": [
    "- Or simply print the circuit"
   ]
  },
  {
   "cell_type": "code",
   "execution_count": 3,
   "metadata": {
    "ExecuteTime": {
     "end_time": "2020-03-15T09:30:50.792219Z",
     "start_time": "2020-03-15T09:30:50.788482Z"
    },
    "scrolled": true
   },
   "outputs": [
    {
     "name": "stdout",
     "output_type": "stream",
     "text": [
      "(0, 0): ───Rx(x1)───@───\n",
      "                    │\n",
      "(0, 1): ───Rx(x2)───X───\n"
     ]
    }
   ],
   "source": [
    "print(tf_circuit)"
   ]
  },
  {
   "cell_type": "markdown",
   "metadata": {},
   "source": [
    "### How to measure an output?\n",
    "\n",
    "In the cirq simulator we can get the state vector as an output and after that we can calculate any observable that we want.\n",
    "\n",
    "#### Define the Cirq simulator and the resolver\n",
    "\n",
    "The resolver sets the symbolic values of the rotation angles to a real value."
   ]
  },
  {
   "cell_type": "code",
   "execution_count": 4,
   "metadata": {
    "ExecuteTime": {
     "end_time": "2020-03-15T09:30:54.424704Z",
     "start_time": "2020-03-15T09:30:54.420473Z"
    }
   },
   "outputs": [],
   "source": [
    "simulator = cirq.Simulator()\n",
    "resolver = cirq.ParamResolver({x1: 0.5, x2: -0.5}) # Set symbolic parameters to values 0.5 and -0.5"
   ]
  },
  {
   "cell_type": "markdown",
   "metadata": {},
   "source": [
    "#### Do a measurement\n",
    "\n",
    "Measurements in Cirq can be by adding `cirq.measure()` and define which qubit we want to measure. The \"key\" in the measurement can be set arbitrary and is just to find the histogram later. Cirq measurements can be done the `.run` command from the `cirq.Simulator()`."
   ]
  },
  {
   "cell_type": "code",
   "execution_count": 6,
   "metadata": {
    "ExecuteTime": {
     "end_time": "2020-03-15T09:31:03.073079Z",
     "start_time": "2020-03-15T09:31:03.060745Z"
    }
   },
   "outputs": [
    {
     "name": "stdout",
     "output_type": "stream",
     "text": [
      "Counter({0: 93, 1: 7})\n"
     ]
    }
   ],
   "source": [
    "resolved_circuit = cirq.resolve_parameters(tf_circuit, resolver) # Resolve sympy values in circuit\n",
    "resolved_circuit.append(cirq.measure(q0, key='some_key'))            # Add a measurement in Z direction on qubit 0\n",
    "results = simulator.run(resolved_circuit, repetitions=100)    # Run a simulation of this circuit 100 times\n",
    "print(results.histogram(key='some_key'))                             # Get measurement statistics"
   ]
  },
  {
   "cell_type": "markdown",
   "metadata": {},
   "source": [
    "#### Get measurement by simulating the state vector\n",
    "\n",
    "Instead of running the measurement 100 times we can also get analytic results from the `.simulate` command from the `cirq.Simulator()`.\n",
    "The measurement direction can here be specified as an arbitrary combination of Pauli operators."
   ]
  },
  {
   "cell_type": "code",
   "execution_count": 7,
   "metadata": {
    "ExecuteTime": {
     "end_time": "2020-03-15T09:31:07.747096Z",
     "start_time": "2020-03-15T09:31:07.732481Z"
    }
   },
   "outputs": [
    {
     "data": {
      "text/plain": [
       "0.8775825500488281"
      ]
     },
     "execution_count": 7,
     "metadata": {},
     "output_type": "execute_result"
    }
   ],
   "source": [
    "output_state_vector = simulator.simulate(tf_circuit, resolver).final_state # simulate state vector\n",
    "\n",
    "z0 = cirq.Z(q0)              # Define measurement direction in Z direction\n",
    "\n",
    "qubit_map = {q0: 0, q1: 1}   # Define which qubits are involved in \n",
    "\n",
    "z0.expectation_from_wavefunction(output_state_vector, qubit_map).real"
   ]
  },
  {
   "cell_type": "markdown",
   "metadata": {},
   "source": [
    "Here is another example for a measurement in $0.5 Z_0 + X_1$ direction"
   ]
  },
  {
   "cell_type": "code",
   "execution_count": 8,
   "metadata": {
    "ExecuteTime": {
     "end_time": "2020-03-15T09:31:09.463815Z",
     "start_time": "2020-03-15T09:31:09.452416Z"
    }
   },
   "outputs": [
    {
     "data": {
      "text/plain": [
       "0.43879127502441406"
      ]
     },
     "execution_count": 8,
     "metadata": {},
     "output_type": "execute_result"
    }
   ],
   "source": [
    "z0x1 = 0.5 * z0 + cirq.X(q1)\n",
    "\n",
    "z0x1.expectation_from_wavefunction(output_state_vector, qubit_map).real"
   ]
  },
  {
   "cell_type": "markdown",
   "metadata": {
    "ExecuteTime": {
     "end_time": "2020-03-15T09:07:16.296625Z",
     "start_time": "2020-03-15T09:07:16.290662Z"
    }
   },
   "source": [
    "## Pennylane \"Hello World\"\n",
    "\n",
    "Pennylane is \"hardware agnostic\", which means we do not have to stick to one quantum environment like Cirq. For every environment Qiskit, Cirq, Forest we basically just have to change one line of code, the `qml.device()`."
   ]
  },
  {
   "cell_type": "code",
   "execution_count": 1,
   "metadata": {
    "ExecuteTime": {
     "end_time": "2020-03-15T12:15:23.631391Z",
     "start_time": "2020-03-15T12:15:21.808627Z"
    }
   },
   "outputs": [],
   "source": [
    "import pennylane as qml\n",
    "from pennylane import numpy as np"
   ]
  },
  {
   "cell_type": "markdown",
   "metadata": {},
   "source": [
    "### Define a device\n",
    "\n",
    "This is basically the whole magic of pennylane. By defining a device we can access all possible quantum hardware platforms and simulators. For more information see [here](https://pennylane.ai/plugins.html).\n",
    "\n",
    "We will start with the `qiskit.aer` device that can be installed via `pip install pennylane-qiskit`."
   ]
  },
  {
   "cell_type": "code",
   "execution_count": 23,
   "metadata": {
    "ExecuteTime": {
     "end_time": "2020-03-15T12:52:13.172174Z",
     "start_time": "2020-03-15T12:52:13.161474Z"
    }
   },
   "outputs": [],
   "source": [
    "dev1 = qml.device(\"qiskit.aer\", wires=2)"
   ]
  },
  {
   "cell_type": "code",
   "execution_count": 3,
   "metadata": {
    "ExecuteTime": {
     "end_time": "2020-03-15T12:15:29.547333Z",
     "start_time": "2020-03-15T12:15:29.540626Z"
    }
   },
   "outputs": [],
   "source": [
    "def circuit(params):\n",
    "    qml.RX(params[0], wires=0)\n",
    "    qml.RX(params[1], wires=1)\n",
    "    qml.CNOT(wires=[0,1])\n",
    "    return qml.expval(qml.PauliZ(0))"
   ]
  },
  {
   "cell_type": "markdown",
   "metadata": {},
   "source": [
    "Pennylane allows us to use wrappers, to directly define a `circuit()` for a certain device `dev1`. To do so you can start the above definition of the circuit with `@qml.qnode(dev)`. This will look the following way:\n",
    "\n",
    "```\n",
    "@qml.qnode(dev1)\n",
    "def circuit(params):\n",
    "    qml.RX(params[0], wires=0)\n",
    "    qml.RY(params[1], wires=0)\n",
    "    return qml.expval(qml.PauliZ(0))\n",
    "```\n",
    "    \n",
    "I recommend doing this, if you anyway stick to the same device. I will not do it in this tutorial, because I will change the device many times.\n",
    "\n",
    "To set the device for the circuit we can also do the following and evaulate it directly for the given parameters"
   ]
  },
  {
   "cell_type": "code",
   "execution_count": 19,
   "metadata": {
    "ExecuteTime": {
     "end_time": "2020-03-15T12:51:54.292337Z",
     "start_time": "2020-03-15T12:51:54.283001Z"
    }
   },
   "outputs": [
    {
     "data": {
      "text/plain": [
       "0.8775825618903726"
      ]
     },
     "execution_count": 19,
     "metadata": {},
     "output_type": "execute_result"
    }
   ],
   "source": [
    "q_circuit = qml.QNode(circuit, dev1)\n",
    "\n",
    "params = np.array([0.5, -0.5])\n",
    "q_circuit(params)"
   ]
  },
  {
   "cell_type": "markdown",
   "metadata": {},
   "source": [
    "To print the circuit with `qiskit.aer` we can directly do the following:"
   ]
  },
  {
   "cell_type": "code",
   "execution_count": 24,
   "metadata": {
    "ExecuteTime": {
     "end_time": "2020-03-15T12:52:16.193063Z",
     "start_time": "2020-03-15T12:52:16.185798Z"
    },
    "scrolled": true
   },
   "outputs": [
    {
     "data": {
      "text/html": [
       "<pre style=\"word-wrap: normal;white-space: pre;background: #fff0;line-height: 1.1;font-family: &quot;Courier New&quot;,Courier,monospace\">        \n",
       "q_0: |0>\n",
       "        \n",
       "q_1: |0>\n",
       "        \n",
       " c_0: 0 \n",
       "        \n",
       " c_1: 0 \n",
       "        </pre>"
      ],
      "text/plain": [
       "        \n",
       "q_0: |0>\n",
       "        \n",
       "q_1: |0>\n",
       "        \n",
       " c_0: 0 \n",
       "        \n",
       " c_1: 0 \n",
       "        "
      ]
     },
     "execution_count": 24,
     "metadata": {},
     "output_type": "execute_result"
    }
   ],
   "source": [
    "dev1._circuit.draw()"
   ]
  },
  {
   "cell_type": "markdown",
   "metadata": {},
   "source": [
    "With the `default.qubit` the output looks the following way. "
   ]
  },
  {
   "cell_type": "code",
   "execution_count": 22,
   "metadata": {
    "ExecuteTime": {
     "end_time": "2020-03-15T12:52:07.004216Z",
     "start_time": "2020-03-15T12:52:06.994106Z"
    }
   },
   "outputs": [
    {
     "name": "stdout",
     "output_type": "stream",
     "text": [
      " 0: ──RX(0.5)───╭C──┤ ⟨Z⟩ \n",
      " 1: ──RX(-0.5)──╰X──┤     \n",
      "\n"
     ]
    }
   ],
   "source": [
    "dev1 = qml.device(\"default.qubit\", wires=2)\n",
    "q_circuit = qml.QNode(circuit, dev1)\n",
    "params = np.array([0.5, -0.5])\n",
    "q_circuit(params)\n",
    "print(q_circuit.draw())"
   ]
  },
  {
   "cell_type": "markdown",
   "metadata": {},
   "source": [
    "We can evaluate the circuit like before with the parameters 0.5 and -0.5"
   ]
  },
  {
   "cell_type": "code",
   "execution_count": 7,
   "metadata": {
    "ExecuteTime": {
     "end_time": "2020-03-15T12:15:37.110284Z",
     "start_time": "2020-03-15T12:15:37.101993Z"
    }
   },
   "outputs": [
    {
     "data": {
      "text/plain": [
       "0.8775825618903726"
      ]
     },
     "execution_count": 7,
     "metadata": {},
     "output_type": "execute_result"
    }
   ],
   "source": [
    "params = np.array([0.5, -0.5])\n",
    "q_circuit(params)"
   ]
  },
  {
   "cell_type": "markdown",
   "metadata": {},
   "source": [
    "And we can also sample the measurement outputs by changing the return line of the circuit function from `qml.expval()` to `qml.sample()`"
   ]
  },
  {
   "cell_type": "code",
   "execution_count": 8,
   "metadata": {
    "ExecuteTime": {
     "end_time": "2020-03-15T12:15:38.860694Z",
     "start_time": "2020-03-15T12:15:38.847578Z"
    }
   },
   "outputs": [
    {
     "data": {
      "text/plain": [
       "array([[1, 1, 1, ..., 1, 1, 1],\n",
       "       [1, 1, 1, ..., 1, 1, 1]])"
      ]
     },
     "execution_count": 8,
     "metadata": {},
     "output_type": "execute_result"
    }
   ],
   "source": [
    "def circuit_sample(params):\n",
    "    qml.RX(params[0], wires=0)\n",
    "    qml.RX(params[1], wires=1)\n",
    "    qml.CNOT(wires=[0,1])\n",
    "    return qml.sample(qml.PauliZ(0)), qml.sample(qml.PauliZ(1))\n",
    "\n",
    "dev2 = qml.device(\"default.qubit\", wires=2)\n",
    "q_circuit = qml.QNode(circuit_sample, dev2)\n",
    "params = np.array([0.5, -0.5])\n",
    "q_circuit(params)"
   ]
  },
  {
   "cell_type": "markdown",
   "metadata": {},
   "source": [
    "And the wavefunction can as well be accessed with the `default.qubit`"
   ]
  },
  {
   "cell_type": "code",
   "execution_count": 13,
   "metadata": {
    "ExecuteTime": {
     "end_time": "2020-03-15T12:25:35.757751Z",
     "start_time": "2020-03-15T12:25:35.750884Z"
    }
   },
   "outputs": [
    {
     "name": "stdout",
     "output_type": "stream",
     "text": [
      "[0.93879128+0.j         0.        +0.23971277j 0.06120872+0.j\n",
      " 0.        -0.23971277j]\n"
     ]
    }
   ],
   "source": [
    "q_circuit(params)\n",
    "print(dev2.state)"
   ]
  },
  {
   "cell_type": "markdown",
   "metadata": {},
   "source": [
    "To change the measurement of the circuit, we have to redefine the circuit. It seems there is no way around this. We can change the last line of the `def circuit_sample` function to e.g. `return qml.expval(qml.PauliZ(0) @ qml.PauliX(1))` to measure the correlation $\\langle Z \\otimes X \\rangle$."
   ]
  }
 ],
 "metadata": {
  "kernelspec": {
   "display_name": "Python 3",
   "language": "python",
   "name": "python3"
  },
  "language_info": {
   "codemirror_mode": {
    "name": "ipython",
    "version": 3
   },
   "file_extension": ".py",
   "mimetype": "text/x-python",
   "name": "python",
   "nbconvert_exporter": "python",
   "pygments_lexer": "ipython3",
   "version": "3.7.6"
  },
  "toc": {
   "base_numbering": 1,
   "nav_menu": {},
   "number_sections": true,
   "sideBar": true,
   "skip_h1_title": false,
   "title_cell": "Table of Contents",
   "title_sidebar": "Contents",
   "toc_cell": false,
   "toc_position": {},
   "toc_section_display": true,
   "toc_window_display": false
  },
  "varInspector": {
   "cols": {
    "lenName": 16,
    "lenType": 16,
    "lenVar": 40
   },
   "kernels_config": {
    "python": {
     "delete_cmd_postfix": "",
     "delete_cmd_prefix": "del ",
     "library": "var_list.py",
     "varRefreshCmd": "print(var_dic_list())"
    },
    "r": {
     "delete_cmd_postfix": ") ",
     "delete_cmd_prefix": "rm(",
     "library": "var_list.r",
     "varRefreshCmd": "cat(var_dic_list()) "
    }
   },
   "types_to_exclude": [
    "module",
    "function",
    "builtin_function_or_method",
    "instance",
    "_Feature"
   ],
   "window_display": false
  }
 },
 "nbformat": 4,
 "nbformat_minor": 4
}
